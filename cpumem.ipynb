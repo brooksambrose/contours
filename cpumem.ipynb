{
 "cells": [
  {
   "cell_type": "code",
   "execution_count": null,
   "metadata": {
    "scrolled": true
   },
   "outputs": [],
   "source": [
    "withr::with_libpaths('.local/R',tilit::cpumem(plot=T))"
   ]
  },
  {
   "cell_type": "code",
   "execution_count": null,
   "metadata": {
    "scrolled": true
   },
   "outputs": [],
   "source": [
    "library(imager)\n",
    "library(ggplot2)\n",
    "library(cowplot)\n",
    "library(magrittr)\n",
    "library(dplyr)\n",
    "'cpumem.png' %>% load.image %>% as.data.frame(wide='c') %>% mutate(rgb.val=rgb(c.1,c.2,c.3)) %>% \n",
    "{ggplot(data=.,aes(x,y))+geom_raster(aes(fill=rgb.val))+ scale_fill_identity() + coord_fixed() + scale_y_reverse()+cowplot::theme_nothing()}"
   ]
  },
  {
   "cell_type": "code",
   "execution_count": null,
   "metadata": {
    "scrolled": true
   },
   "outputs": [],
   "source": [
    "cpulim;memlim"
   ]
  }
 ],
 "metadata": {
  "kernelspec": {
   "display_name": "R",
   "language": "R",
   "name": "ir"
  },
  "language_info": {
   "codemirror_mode": "r",
   "file_extension": ".r",
   "mimetype": "text/x-r-source",
   "name": "R",
   "pygments_lexer": "r",
   "version": "3.6.3"
  }
 },
 "nbformat": 4,
 "nbformat_minor": 4
}
